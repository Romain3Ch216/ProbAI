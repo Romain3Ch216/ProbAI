{
 "cells": [
  {
   "cell_type": "markdown",
   "metadata": {},
   "source": [
    "Load MNIST data"
   ]
  },
  {
   "cell_type": "code",
   "execution_count": 1,
   "metadata": {},
   "outputs": [],
   "source": [
    "import torch.utils.data\n",
    "from torchvision import transforms, datasets\n",
    "\n",
    "use_cuda = torch.cuda.is_available()\n",
    "\n",
    "transform = transforms.Compose([\n",
    "                transforms.ToTensor(),\n",
    "                transforms.Normalize((0.1307,), (0.3081,))\n",
    "        ])\n",
    "\n",
    "trainset = datasets.MNIST(root='../data', train=True, download=True, transform=transform)\n",
    "valset = datasets.MNIST(root='../data', train=False, download=True, transform=transform)\n",
    "\n",
    "batch_size = 128\n",
    "\n",
    "trainloader = torch.utils.data.DataLoader(trainset, batch_size=batch_size, \n",
    "                                          shuffle=True, pin_memory=use_cuda,\n",
    "                                          num_workers=3)\n",
    "\n",
    "valloader = torch.utils.data.DataLoader(valset, batch_size=batch_size, \n",
    "                                        shuffle=False, pin_memory=use_cuda,\n",
    "                                        num_workers=3)\n",
    "\n",
    "batch_shape = next(iter(trainloader))[0].shape\n",
    "in_dim = batch_shape[-1]*batch_shape[-2]"
   ]
  },
  {
   "cell_type": "markdown",
   "metadata": {},
   "source": [
    "Define Bayesian Neural Network"
   ]
  },
  {
   "cell_type": "code",
   "execution_count": 2,
   "metadata": {},
   "outputs": [],
   "source": [
    "import pyro\n",
    "import pyro.distributions as dist\n",
    "from pyro.nn import PyroModule, PyroParam, PyroSample\n",
    "from torch.distributions import constraints\n",
    "import torch.nn.functional as F\n",
    "\n",
    "class BayesianLinear(PyroModule):\n",
    "    def __init__(self, in_size, out_size):\n",
    "        super().__init__()\n",
    "        self.bias = PyroSample(prior=dist.LogNormal(0, 1).expand([out_size]).to_event(1))\n",
    "        self.weight = PyroSample(prior=dist.Normal(0, 1).expand([in_size, out_size]).to_event(2))\n",
    "\n",
    "    def forward(self, input):\n",
    "        return self.bias + input @ self.weight  # this line samples bias and weight\n",
    "    \n",
    "class BayesianNeuralNetwork(PyroModule):\n",
    "    def __init__(self, in_size, h1, out_size):\n",
    "        super().__init__()\n",
    "        self.fc1 = BayesianLinear(in_size, h1) \n",
    "        self.fc2 = BayesianLinear(h1, out_size) \n",
    "        self.obs_scale = PyroSample(dist.LogNormal(0, 1))\n",
    "\n",
    "    def forward(self, input, output=None):\n",
    "        x = self.fc1(input)\n",
    "        x = F.relu(x)\n",
    "        x = self.fc2(x)\n",
    "        with pyro.plate(\"instances\", len(input)):\n",
    "            return pyro.sample(\"obs\", dist.Categorical(logits=x), obs=output)"
   ]
  },
  {
   "cell_type": "markdown",
   "metadata": {},
   "source": [
    "Train the network"
   ]
  },
  {
   "cell_type": "code",
   "execution_count": 11,
   "metadata": {},
   "outputs": [
    {
     "name": "stdout",
     "output_type": "stream",
     "text": [
      "Epoch 0:\n",
      "Train loss: 66543.8798\n",
      "Epoch 1:\n",
      "Train loss: 42561.2078\n",
      "Epoch 2:\n",
      "Train loss: 22824.5474\n",
      "Epoch 3:\n",
      "Train loss: 9507.9183\n",
      "Epoch 4:\n",
      "Train loss: 3609.9844\n",
      "Epoch 5:\n",
      "Train loss: 1886.4807\n",
      "Epoch 6:\n",
      "Train loss: 1644.5230\n",
      "Epoch 7:\n",
      "Train loss: 1562.9161\n",
      "Epoch 8:\n",
      "Train loss: 1487.7144\n",
      "Epoch 9:\n",
      "Train loss: 1520.5353\n"
     ]
    }
   ],
   "source": [
    "from pyro.infer import Predictive, SVI, Trace_ELBO\n",
    "from pyro.infer.autoguide import AutoNormal\n",
    "\n",
    "import pdb \n",
    "\n",
    "pyro.clear_param_store()\n",
    "\n",
    "h1 = 64\n",
    "bnn = BayesianNeuralNetwork(in_dim, h1, 10)\n",
    "guide = AutoNormal(bnn)\n",
    "svi = SVI(model=bnn,\n",
    "          guide=guide,\n",
    "          optim=pyro.optim.SGD({\"lr\": 0.001, \"momentum\":0.1}),\n",
    "          loss=Trace_ELBO())\n",
    "\n",
    "epochs = 10\n",
    "losses = []\n",
    "for epoch in range(epochs):\n",
    "    print('Epoch {}:'.format(epoch))\n",
    "    for data, labels in trainloader:\n",
    "        data = data.view(data.shape[0],-1)\n",
    "        out = bnn(data)\n",
    "        losses.append(svi.step(data, labels))\n",
    "    print('Train loss: {:.4f}'.format(losses[-1]))"
   ]
  },
  {
   "cell_type": "code",
   "execution_count": 13,
   "metadata": {},
   "outputs": [
    {
     "data": {
      "image/png": "[encoded data removed]",
      "text/plain": [
       "<Figure size 432x288 with 1 Axes>"
      ]
     },
     "metadata": {
      "needs_background": "light"
     },
     "output_type": "display_data"
    }
   ],
   "source": [
    "import matplotlib.pyplot as plt \n",
    "\n",
    "plt.plot(losses)\n",
    "plt.xlabel('Iterations')\n",
    "plt.ylabel('Train loss')\n",
    "plt.show()"
   ]
  }
 ],
 "metadata": {
  "kernelspec": {
   "display_name": "Python 3",
   "language": "python",
   "name": "python3"
  },
  "language_info": {
   "codemirror_mode": {
    "name": "ipython",
    "version": 3
   },
   "file_extension": ".py",
   "mimetype": "text/x-python",
   "name": "python",
   "nbconvert_exporter": "python",
   "pygments_lexer": "ipython3",
   "version": "3.8.5"
  }
 },
 "nbformat": 4,
 "nbformat_minor": 4
}
